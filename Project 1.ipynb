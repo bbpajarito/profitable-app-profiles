{
 "cells": [
  {
   "cell_type": "markdown",
   "metadata": {},
   "source": [
    "# Profitable App Profiles for the App Store and Google Play Markets"
   ]
  },
  {
   "cell_type": "markdown",
   "metadata": {},
   "source": [
    "In this guided project by Dataquest, I pretended to work as a data analyst for a company that builds Android and iOS mobile apps. The company only builds apps that are free to download and install. This means that the main revenue for any app is mostly influenced by the number of users who see and engage the in-app ads. My goal was to analyze available data and assist the company developers in understanding the type of apps that are likely to attract more users. "
   ]
  },
  {
   "cell_type": "markdown",
   "metadata": {},
   "source": [
    "## Opening and Exploring the Data"
   ]
  },
  {
   "cell_type": "markdown",
   "metadata": {},
   "source": [
    "As of the third quarter of 2019, there are 2.47 million apps in Google Play and 1.8 million apps in the Apple App Store ([Statista](https://www.statista.com/statistics/276623/number-of-apps-available-in-leading-app-stores/)). To avoid spending resources on collecting new data, I used these two data sets for this project:\n",
    "\n",
    "* A [data set](https://www.kaggle.com/lava18/google-play-store-apps) about 9,000+ Android apps from Google Play; the apps were last updated on August 2018\n",
    "* A [data set](https://www.kaggle.com/ramamet4/app-store-apple-data-set-10k-apps) about 7,000+ iOS apps from the App Store; the data was collected on July 2017\n",
    "\n",
    "I opened the two data sets to continue exploring the data.\n"
   ]
  },
  {
   "cell_type": "code",
   "execution_count": 1,
   "metadata": {},
   "outputs": [],
   "source": [
    "from csv import reader\n",
    "\n",
    "# Google Play data set\n",
    "opened_file = open('googleplaystore.csv', encoding='utf8')\n",
    "read_file = reader(opened_file)\n",
    "android = list(read_file)\n",
    "\n",
    "# App Store data set\n",
    "opened_file = open('AppleStore.csv', encoding='utf8')\n",
    "read_file = reader(opened_file)\n",
    "ios = list(read_file)"
   ]
  },
  {
   "cell_type": "markdown",
   "metadata": {},
   "source": [
    "Dataquest provided a function named `explore_data()` to easily view the selected rows and report the number of rows and columns of the input data set."
   ]
  },
  {
   "cell_type": "code",
   "execution_count": 2,
   "metadata": {},
   "outputs": [],
   "source": [
    "def explore_data(dataset, start, end, rows_and_columns=False):\n",
    "    dataset_slice = dataset[start:end]    \n",
    "    for row in dataset_slice:\n",
    "        print(row)\n",
    "        print('\\n') # adds a new (empty) line after each row\n",
    "\n",
    "    if rows_and_columns:\n",
    "        print('Number of rows:', len(dataset))\n",
    "        print('Number of columns:', len(dataset[0]))"
   ]
  },
  {
   "cell_type": "markdown",
   "metadata": {},
   "source": [
    "To use`explore_data()`, the data set must not have a header row."
   ]
  },
  {
   "cell_type": "code",
   "execution_count": 3,
   "metadata": {},
   "outputs": [
    {
     "name": "stdout",
     "output_type": "stream",
     "text": [
      "['App', 'Category', 'Rating', 'Reviews', 'Size', 'Installs', 'Type', 'Price', 'Content Rating', 'Genres', 'Last Updated', 'Current Ver', 'Android Ver']\n",
      "\n",
      "\n",
      "['Photo Editor & Candy Camera & Grid & ScrapBook', 'ART_AND_DESIGN', '4.1', '159', '19M', '10,000+', 'Free', '0', 'Everyone', 'Art & Design', 'January 7, 2018', '1.0.0', '4.0.3 and up']\n",
      "\n",
      "\n",
      "['Coloring book moana', 'ART_AND_DESIGN', '3.9', '967', '14M', '500,000+', 'Free', '0', 'Everyone', 'Art & Design;Pretend Play', 'January 15, 2018', '2.0.0', '4.0.3 and up']\n",
      "\n",
      "\n",
      "['U Launcher Lite – FREE Live Cool Themes, Hide Apps', 'ART_AND_DESIGN', '4.7', '87510', '8.7M', '5,000,000+', 'Free', '0', 'Everyone', 'Art & Design', 'August 1, 2018', '1.2.4', '4.0.3 and up']\n",
      "\n",
      "\n",
      "Number of rows: 10841\n",
      "Number of columns: 13\n"
     ]
    }
   ],
   "source": [
    "android_head = android[0]\n",
    "android = android[1:]\n",
    "\n",
    "print(android_head)\n",
    "print('\\n')\n",
    "explore_data(android, 0, 3, True)"
   ]
  },
  {
   "cell_type": "markdown",
   "metadata": {},
   "source": [
    "The data set from Google Play has 10,841 rows and 13 columns. I used the following columns for data analysis:\n",
    "\n",
    "* `'App'` - Application name\n",
    "* `'Category'` - Category the app belongs to\n",
    "* `'Installs'` - Number of user downloads/installs for the app\n",
    "* `'Price'` - Price of the app\n",
    "* `'Genres'` - An app can belong to multiple genres (apart from its main category). For eg, a musical family game will belong to Music, Game, Family genres.\n",
    "\n",
    "I found that there is a mismatch between the number of rows (10,841) and the number of unique values in the `'App'` column (9,660 as stated from the [source](https://www.kaggle.com/lava18/google-play-store-apps)). This suggests the presence of duplicate entries in the data set which must be removed before data analysis."
   ]
  },
  {
   "cell_type": "code",
   "execution_count": 4,
   "metadata": {},
   "outputs": [
    {
     "name": "stdout",
     "output_type": "stream",
     "text": [
      "['', 'id', 'track_name', 'size_bytes', 'currency', 'price', 'rating_count_tot', 'rating_count_ver', 'user_rating', 'user_rating_ver', 'ver', 'cont_rating', 'prime_genre', 'sup_devices.num', 'ipadSc_urls.num', 'lang.num', 'vpp_lic']\n",
      "\n",
      "\n",
      "['1', '281656475', 'PAC-MAN Premium', '100788224', 'USD', '3.99', '21292', '26', '4', '4.5', '6.3.5', '4+', 'Games', '38', '5', '10', '1']\n",
      "\n",
      "\n",
      "['2', '281796108', 'Evernote - stay organized', '158578688', 'USD', '0', '161065', '26', '4', '3.5', '8.2.2', '4+', 'Productivity', '37', '5', '23', '1']\n",
      "\n",
      "\n",
      "['3', '281940292', 'WeatherBug - Local Weather, Radar, Maps, Alerts', '100524032', 'USD', '0', '188583', '2822', '3.5', '4.5', '5.0.0', '4+', 'Weather', '37', '5', '3', '1']\n",
      "\n",
      "\n",
      "Number of rows: 7197\n",
      "Number of columns: 17\n"
     ]
    }
   ],
   "source": [
    "ios_head = ios[0]\n",
    "ios = ios[1:]\n",
    "\n",
    "print(ios_head)\n",
    "print('\\n')\n",
    "explore_data(ios, 0, 3, True)"
   ]
  },
  {
   "cell_type": "markdown",
   "metadata": {},
   "source": [
    "The data set from the App Store has 7,197 rows and 17 columns. I used the following columns for data analysis:\n",
    "\n",
    "* `'track_name` - App name\n",
    "* `'price'` - Price amount\n",
    "* `'rating_count_tot'` - User rating counts (for all version)\n",
    "* `'prime_genre'` - Primary genre\n",
    "\n",
    "[The source of the data set](https://www.kaggle.com/ramamet4/app-store-apple-data-set-10k-apps) indicates 7,195 unique values as opposed to the computed 7,197 rows. This suggests duplicate entries in the data set which I needed to remove before data analysis."
   ]
  },
  {
   "cell_type": "markdown",
   "metadata": {},
   "source": [
    "## Deleting Wrong Data"
   ]
  },
  {
   "cell_type": "markdown",
   "metadata": {},
   "source": [
    "[One of the discussions](https://www.kaggle.com/lava18/google-play-store-apps/discussion/66015) of the Google Play data set describes an error at row 10472. I first confirmed the error by printing and comparing it to another row from the data set. "
   ]
  },
  {
   "cell_type": "code",
   "execution_count": 5,
   "metadata": {},
   "outputs": [
    {
     "name": "stdout",
     "output_type": "stream",
     "text": [
      "['App', 'Category', 'Rating', 'Reviews', 'Size', 'Installs', 'Type', 'Price', 'Content Rating', 'Genres', 'Last Updated', 'Current Ver', 'Android Ver']\n",
      "\n",
      "\n",
      "['Life Made WI-Fi Touchscreen Photo Frame', '1.9', '19', '3.0M', '1,000+', 'Free', '0', 'Everyone', '', 'February 11, 2018', '1.0.19', '4.0 and up']\n",
      "\n",
      "\n",
      "['Text on Photo - Fonteee', 'ART_AND_DESIGN', '4.4', '13880', '28M', '1,000,000+', 'Free', '0', 'Everyone', 'Art & Design', 'October 27, 2017', '1.0.4', '4.1 and up']\n"
     ]
    }
   ],
   "source": [
    "print(android_head)\n",
    "print('\\n')\n",
    "print(android[10472])\n",
    "print('\\n')\n",
    "print(android[10])"
   ]
  },
  {
   "cell_type": "markdown",
   "metadata": {},
   "source": [
    "The app `'Life Made WI-Fi Touchscreen Photo Frame'` has a missing `'Category'` value which shifts the values from the other columns. I removed the said row from the data set. "
   ]
  },
  {
   "cell_type": "code",
   "execution_count": 6,
   "metadata": {},
   "outputs": [
    {
     "data": {
      "text/plain": [
       "10840"
      ]
     },
     "execution_count": 6,
     "metadata": {},
     "output_type": "execute_result"
    }
   ],
   "source": [
    "del android[10472]\n",
    "len(android)"
   ]
  },
  {
   "cell_type": "markdown",
   "metadata": {},
   "source": [
    "## Removing Duplicate Entries - Part 1"
   ]
  },
  {
   "cell_type": "markdown",
   "metadata": {},
   "source": [
    "For the Google Play data set, I obtained the list and number of unique and duplicate apps. "
   ]
  },
  {
   "cell_type": "code",
   "execution_count": 7,
   "metadata": {},
   "outputs": [
    {
     "name": "stdout",
     "output_type": "stream",
     "text": [
      "Here are some examples of duplicate apps in the Google Play data set:\n",
      "['Quick PDF Scanner + OCR FREE', 'Box', 'Google My Business', 'ZOOM Cloud Meetings', 'join.me - Simple Meetings', 'Box', 'Zenefits', 'Google Ads', 'Google My Business', 'Slack', 'FreshBooks Classic', 'Insightly CRM', 'QuickBooks Accounting: Invoicing & Expenses', 'HipChat - Chat Built for Teams', 'Xero Accounting Software', 'MailChimp - Email, Marketing Automation', 'Crew - Free Messaging and Scheduling', 'Asana: organize team projects', 'Google Analytics', 'AdWords Express']\n",
      "\n",
      "\n",
      "Number of unique apps = 9659\n",
      "Number of duplicate apps = 1181\n"
     ]
    }
   ],
   "source": [
    "unique_apps = []\n",
    "duplicate_apps = []\n",
    "\n",
    "for app in android:\n",
    "    app_name = app[0]\n",
    "    \n",
    "    if app_name in unique_apps:\n",
    "        duplicate_apps.append(app_name)\n",
    "    else:\n",
    "        unique_apps.append(app_name)\n",
    "\n",
    "print('Here are some examples of duplicate apps in the Google Play data set:')\n",
    "print(duplicate_apps[:20])\n",
    "print('\\n')\n",
    "print('Number of unique apps =', len(unique_apps))\n",
    "print('Number of duplicate apps =', len(duplicate_apps))"
   ]
  },
  {
   "cell_type": "markdown",
   "metadata": {},
   "source": [
    "The Google Play data set has 1,181 duplicate apps. I inspected some of the duplicate apps, e.g. `'Slack'` and `'Google Ads'`, and observed a difference in the fourth column `'Reviews'`."
   ]
  },
  {
   "cell_type": "code",
   "execution_count": 8,
   "metadata": {},
   "outputs": [
    {
     "name": "stdout",
     "output_type": "stream",
     "text": [
      "['Slack', 'BUSINESS', '4.4', '51507', 'Varies with device', '5,000,000+', 'Free', '0', 'Everyone', 'Business', 'August 2, 2018', 'Varies with device', 'Varies with device']\n",
      "['Slack', 'BUSINESS', '4.4', '51507', 'Varies with device', '5,000,000+', 'Free', '0', 'Everyone', 'Business', 'August 2, 2018', 'Varies with device', 'Varies with device']\n",
      "['Slack', 'BUSINESS', '4.4', '51510', 'Varies with device', '5,000,000+', 'Free', '0', 'Everyone', 'Business', 'August 2, 2018', 'Varies with device', 'Varies with device']\n"
     ]
    }
   ],
   "source": [
    "for app in android:\n",
    "    if app[0] == 'Slack':\n",
    "        print(app)"
   ]
  },
  {
   "cell_type": "code",
   "execution_count": 9,
   "metadata": {},
   "outputs": [
    {
     "name": "stdout",
     "output_type": "stream",
     "text": [
      "['Google Ads', 'BUSINESS', '4.3', '29313', '20M', '5,000,000+', 'Free', '0', 'Everyone', 'Business', 'July 30, 2018', '1.12.0', '4.0.3 and up']\n",
      "['Google Ads', 'BUSINESS', '4.3', '29313', '20M', '5,000,000+', 'Free', '0', 'Everyone', 'Business', 'July 30, 2018', '1.12.0', '4.0.3 and up']\n",
      "['Google Ads', 'BUSINESS', '4.3', '29331', '20M', '5,000,000+', 'Free', '0', 'Everyone', 'Business', 'July 30, 2018', '1.12.0', '4.0.3 and up']\n"
     ]
    }
   ],
   "source": [
    "for app in android:\n",
    "    if app[0] == 'Google Ads':\n",
    "        print(app)"
   ]
  },
  {
   "cell_type": "markdown",
   "metadata": {},
   "source": [
    "Before any data analysis, I needed to keep one row per unique app in the data set. Rather than randomly removing the duplicates in the data set, I decided to keep the entry with the highest value in the `'Reviews'` column. I assumed that the higher the number of reviews of the app, the more recent its data is. "
   ]
  },
  {
   "cell_type": "markdown",
   "metadata": {},
   "source": [
    "## Removing Duplicate Entries - Part 2"
   ]
  },
  {
   "cell_type": "markdown",
   "metadata": {},
   "source": [
    "To remove the duplicate entries in the Google Play data set, I performed the following:\n",
    "\n",
    "* Created the empty dictionary `reviews_max`\n",
    "* Looped through the `android` data set and:\n",
    "    * Extracted the app name (`name`) and number of reviews (`n_reviews`)\n",
    "    * If `name` is a key in `reviews_max` and `reviews_max[name] < n_reviews`, update `reviews_max[name]` with `n_reviews`\n",
    "    * If `name` is not in the `reviews_max`, add a new entry to `reviews_max` with `name` as the key and `n_reviews` as the value\n",
    "* Inspected the length of `reviews_max`. This should be equal to 9,659 which is the number of unique apps in the Google Play data set."
   ]
  },
  {
   "cell_type": "code",
   "execution_count": 10,
   "metadata": {},
   "outputs": [
    {
     "data": {
      "text/plain": [
       "9659"
      ]
     },
     "execution_count": 10,
     "metadata": {},
     "output_type": "execute_result"
    }
   ],
   "source": [
    "reviews_max = {}\n",
    "for app in android:\n",
    "    name = app[0]\n",
    "    n_reviews = float(app[3])\n",
    "    \n",
    "    if name in reviews_max and reviews_max[name] < n_reviews:\n",
    "        reviews_max[name] = n_reviews\n",
    "    \n",
    "    elif name not in reviews_max:\n",
    "        reviews_max[name] = n_reviews\n",
    "        \n",
    "len(reviews_max)\n",
    "    "
   ]
  },
  {
   "cell_type": "markdown",
   "metadata": {},
   "source": [
    "I then used `reviews_max` to remove the duplicate rows by:\n",
    "\n",
    "* Created two empty lists: `android_clean` (to store the cleaned data set) and `already_added` (to track the apps that are already added in `android_clean`)\n",
    "* Looped through the `android` data set and:\n",
    "    * Extracted the app name (`name`) and number of reviews (`n_reviews`)\n",
    "    * If `n_reviews` is the same as `reviews_max[name]` and `name` is not in `already_added`, append the entire row in `android_clean` and `name` in `already_added`"
   ]
  },
  {
   "cell_type": "code",
   "execution_count": 11,
   "metadata": {},
   "outputs": [],
   "source": [
    "android_clean = []\n",
    "already_added = []\n",
    "\n",
    "for app in android:\n",
    "    name = app[0]\n",
    "    n_reviews = float(app[3])\n",
    "    \n",
    "    if n_reviews == reviews_max[name] and name not in already_added:\n",
    "        android_clean.append(app)\n",
    "        already_added.append(name)"
   ]
  },
  {
   "cell_type": "markdown",
   "metadata": {},
   "source": [
    "I used `explore_data()` and ensured that the number of rows in `android_clean` is 9,659.  "
   ]
  },
  {
   "cell_type": "code",
   "execution_count": 12,
   "metadata": {
    "scrolled": false
   },
   "outputs": [
    {
     "name": "stdout",
     "output_type": "stream",
     "text": [
      "['Photo Editor & Candy Camera & Grid & ScrapBook', 'ART_AND_DESIGN', '4.1', '159', '19M', '10,000+', 'Free', '0', 'Everyone', 'Art & Design', 'January 7, 2018', '1.0.0', '4.0.3 and up']\n",
      "\n",
      "\n",
      "['U Launcher Lite – FREE Live Cool Themes, Hide Apps', 'ART_AND_DESIGN', '4.7', '87510', '8.7M', '5,000,000+', 'Free', '0', 'Everyone', 'Art & Design', 'August 1, 2018', '1.2.4', '4.0.3 and up']\n",
      "\n",
      "\n",
      "['Sketch - Draw & Paint', 'ART_AND_DESIGN', '4.5', '215644', '25M', '50,000,000+', 'Free', '0', 'Teen', 'Art & Design', 'June 8, 2018', 'Varies with device', '4.2 and up']\n",
      "\n",
      "\n",
      "Number of rows: 9659\n",
      "Number of columns: 13\n"
     ]
    }
   ],
   "source": [
    "explore_data(android_clean, 0, 3, True)"
   ]
  },
  {
   "cell_type": "markdown",
   "metadata": {},
   "source": [
    "## Removing Non-English Apps - Part 1"
   ]
  },
  {
   "cell_type": "markdown",
   "metadata": {},
   "source": [
    "Since the company uses English to develop its apps,  I only analyzed the apps that are directed toward an English-speaking audience. However, both the `android_clean` and `ios` data sets have non-English app names. "
   ]
  },
  {
   "cell_type": "code",
   "execution_count": 13,
   "metadata": {},
   "outputs": [
    {
     "name": "stdout",
     "output_type": "stream",
     "text": [
      "中国語 AQリスニング\n",
      "لعبة تقدر تربح DZ\n",
      "\n",
      "\n",
      "搜狐新闻—新闻热点资讯掌上阅读软件\n",
      "エレメンタル ファンタジー - 高精細３ＤアクションＲＰＧ\n"
     ]
    }
   ],
   "source": [
    "print(android_clean[4412][0])\n",
    "print(android_clean[7940][0])\n",
    "print('\\n')\n",
    "print(ios[814][2])\n",
    "print(ios[6734][2])"
   ]
  },
  {
   "cell_type": "markdown",
   "metadata": {},
   "source": [
    "I wrote the `is_english()` function that takes in a string and returns `False` if there's any character in the string that doesn't belong to the set of common English characters (ranges from 0 to 127 according to the ASCII system), otherwise it returns `True`. "
   ]
  },
  {
   "cell_type": "code",
   "execution_count": 14,
   "metadata": {},
   "outputs": [],
   "source": [
    "def is_english(string):\n",
    "    for character in string:\n",
    "        if ord(character) > 127:\n",
    "            return False\n",
    "    \n",
    "    return True"
   ]
  },
  {
   "cell_type": "markdown",
   "metadata": {},
   "source": [
    "However, `is_english()` couldn't correctly identify some English app names, e.g. `'Docs To Go™ Free Office Suite'` and `'Instachat 😜'`, due to the emojis and special characters that fall outside the ASCII range (> 127). "
   ]
  },
  {
   "cell_type": "code",
   "execution_count": 15,
   "metadata": {
    "scrolled": false
   },
   "outputs": [
    {
     "name": "stdout",
     "output_type": "stream",
     "text": [
      "True\n",
      "False\n",
      "False\n",
      "False\n"
     ]
    }
   ],
   "source": [
    "print(is_english('Google Ads'))\n",
    "print(is_english('中国語 AQリスニング'))\n",
    "print(is_english('Docs To Go™ Free Office Suite'))\n",
    "print(is_english('Instachat 😜'))"
   ]
  },
  {
   "cell_type": "markdown",
   "metadata": {},
   "source": [
    "## Removing Non-English Apps - Part 2"
   ]
  },
  {
   "cell_type": "markdown",
   "metadata": {},
   "source": [
    "I edited `is_english()` such that it will only remove an app if its name has more than three characters that fall outside the ASCII. "
   ]
  },
  {
   "cell_type": "code",
   "execution_count": 16,
   "metadata": {},
   "outputs": [
    {
     "name": "stdout",
     "output_type": "stream",
     "text": [
      "True\n",
      "False\n",
      "True\n",
      "True\n"
     ]
    }
   ],
   "source": [
    "def is_english(string):\n",
    "    count = 0\n",
    "    for character in string:\n",
    "        if ord(character) > 127:\n",
    "            count += 1\n",
    "            if count > 3:\n",
    "                return False\n",
    "            \n",
    "    return True\n",
    "\n",
    "print(is_english('Google Ads'))\n",
    "print(is_english('中国語 AQリスニング'))\n",
    "print(is_english('Docs To Go™ Free Office Suite'))\n",
    "print(is_english('Instachat 😜'))"
   ]
  },
  {
   "cell_type": "markdown",
   "metadata": {},
   "source": [
    "I then applied `is_english()` to remove the non-English apps in `android_clean` and `ios` data sets. "
   ]
  },
  {
   "cell_type": "code",
   "execution_count": 17,
   "metadata": {},
   "outputs": [
    {
     "name": "stdout",
     "output_type": "stream",
     "text": [
      "['Photo Editor & Candy Camera & Grid & ScrapBook', 'ART_AND_DESIGN', '4.1', '159', '19M', '10,000+', 'Free', '0', 'Everyone', 'Art & Design', 'January 7, 2018', '1.0.0', '4.0.3 and up']\n",
      "\n",
      "\n",
      "['U Launcher Lite – FREE Live Cool Themes, Hide Apps', 'ART_AND_DESIGN', '4.7', '87510', '8.7M', '5,000,000+', 'Free', '0', 'Everyone', 'Art & Design', 'August 1, 2018', '1.2.4', '4.0.3 and up']\n",
      "\n",
      "\n",
      "['Sketch - Draw & Paint', 'ART_AND_DESIGN', '4.5', '215644', '25M', '50,000,000+', 'Free', '0', 'Teen', 'Art & Design', 'June 8, 2018', 'Varies with device', '4.2 and up']\n",
      "\n",
      "\n",
      "Number of rows: 9614\n",
      "Number of columns: 13\n",
      "\n",
      "\n",
      "['1', '281656475', 'PAC-MAN Premium', '100788224', 'USD', '3.99', '21292', '26', '4', '4.5', '6.3.5', '4+', 'Games', '38', '5', '10', '1']\n",
      "\n",
      "\n",
      "['2', '281796108', 'Evernote - stay organized', '158578688', 'USD', '0', '161065', '26', '4', '3.5', '8.2.2', '4+', 'Productivity', '37', '5', '23', '1']\n",
      "\n",
      "\n",
      "['3', '281940292', 'WeatherBug - Local Weather, Radar, Maps, Alerts', '100524032', 'USD', '0', '188583', '2822', '3.5', '4.5', '5.0.0', '4+', 'Weather', '37', '5', '3', '1']\n",
      "\n",
      "\n",
      "Number of rows: 6183\n",
      "Number of columns: 17\n"
     ]
    }
   ],
   "source": [
    "android_english = []\n",
    "ios_english = []\n",
    "\n",
    "for app in android_clean:\n",
    "    name = app[0]\n",
    "    \n",
    "    if is_english(name):\n",
    "        android_english.append(app)\n",
    "\n",
    "for app in ios:\n",
    "    name = app[2]\n",
    "    \n",
    "    if is_english(name):\n",
    "        ios_english.append(app)\n",
    "\n",
    "explore_data(android_english, 0, 3, True)\n",
    "print('\\n')\n",
    "explore_data(ios_english, 0, 3, True)"
   ]
  },
  {
   "cell_type": "markdown",
   "metadata": {},
   "source": [
    "I am left with 9,614 apps from Google Play and 6,183 apps from the App Store. "
   ]
  },
  {
   "cell_type": "markdown",
   "metadata": {},
   "source": [
    "## Isolating the Free Apps"
   ]
  },
  {
   "cell_type": "markdown",
   "metadata": {},
   "source": [
    "The company only builds apps that are free to download and install, so I isolated the free apps from `android_english` and `ios_english` data sets. "
   ]
  },
  {
   "cell_type": "code",
   "execution_count": 18,
   "metadata": {},
   "outputs": [
    {
     "name": "stdout",
     "output_type": "stream",
     "text": [
      "['Photo Editor & Candy Camera & Grid & ScrapBook', 'ART_AND_DESIGN', '4.1', '159', '19M', '10,000+', 'Free', '0', 'Everyone', 'Art & Design', 'January 7, 2018', '1.0.0', '4.0.3 and up']\n",
      "\n",
      "\n",
      "['U Launcher Lite – FREE Live Cool Themes, Hide Apps', 'ART_AND_DESIGN', '4.7', '87510', '8.7M', '5,000,000+', 'Free', '0', 'Everyone', 'Art & Design', 'August 1, 2018', '1.2.4', '4.0.3 and up']\n",
      "\n",
      "\n",
      "['Sketch - Draw & Paint', 'ART_AND_DESIGN', '4.5', '215644', '25M', '50,000,000+', 'Free', '0', 'Teen', 'Art & Design', 'June 8, 2018', 'Varies with device', '4.2 and up']\n",
      "\n",
      "\n",
      "Number of rows: 8864\n",
      "Number of columns: 13\n",
      "\n",
      "\n",
      "['2', '281796108', 'Evernote - stay organized', '158578688', 'USD', '0', '161065', '26', '4', '3.5', '8.2.2', '4+', 'Productivity', '37', '5', '23', '1']\n",
      "\n",
      "\n",
      "['3', '281940292', 'WeatherBug - Local Weather, Radar, Maps, Alerts', '100524032', 'USD', '0', '188583', '2822', '3.5', '4.5', '5.0.0', '4+', 'Weather', '37', '5', '3', '1']\n",
      "\n",
      "\n",
      "['4', '282614216', 'eBay: Best App to Buy, Sell, Save! Online Shopping', '128512000', 'USD', '0', '262241', '649', '4', '4.5', '5.10.0', '12+', 'Shopping', '37', '5', '9', '1']\n",
      "\n",
      "\n",
      "Number of rows: 3222\n",
      "Number of columns: 17\n"
     ]
    }
   ],
   "source": [
    "android_free = []\n",
    "ios_free = []\n",
    "\n",
    "for app in android_english:\n",
    "    price = app[7]\n",
    "    \n",
    "    if price == '0':\n",
    "        android_free.append(app)\n",
    "    \n",
    "for app in ios_english:\n",
    "    price = float(app[5])\n",
    "    \n",
    "    if price == 0.0:\n",
    "        ios_free.append(app)\n",
    "        \n",
    "explore_data(android_free, 0, 3, True)\n",
    "print('\\n')\n",
    "explore_data(ios_free, 0, 3, True)"
   ]
  },
  {
   "cell_type": "markdown",
   "metadata": {},
   "source": [
    "I am left with 8,864 apps from Google Play and 3,222 apps from the App Store for data analysis. "
   ]
  },
  {
   "cell_type": "markdown",
   "metadata": {},
   "source": [
    "## Most Common Apps by Genre"
   ]
  },
  {
   "cell_type": "markdown",
   "metadata": {},
   "source": [
    "I wanted to find an app profile that would fit Google Play and the App Store. The company has the following validation strategy for an app idea:\n",
    "\n",
    "* Build a minimal Android version of the app and add it to Google Play\n",
    "* If the app has a good response from the users, the company will develop it further\n",
    "* If the app is profitable after 6 months, an iOS version of the app will be built and added to the App Store\n",
    "\n",
    "The company aims to add the app in both Google Play and the App Store. Therefore, the app profiles must be successful in both markets. Before recommending app profiles, I needed to know first which app genres are most common in Google Play and the App Store. \n",
    "\n",
    "I created the `freq_table()` function to produce a frequency table for the selected columns of `android_free` (`Category` and `Genres`) and `ios_free` (`prime_genre`) datasets. I expressed the frequency values in percentages. "
   ]
  },
  {
   "cell_type": "code",
   "execution_count": 19,
   "metadata": {},
   "outputs": [],
   "source": [
    "def freq_table(dataset, index):\n",
    "    frequency_table = {}\n",
    "    for row in dataset:\n",
    "        a_data_point = row[index]\n",
    "        \n",
    "        if a_data_point in frequency_table:\n",
    "            frequency_table[a_data_point] += 1\n",
    "        else:\n",
    "            frequency_table[a_data_point] = 1\n",
    "            \n",
    "    for key in frequency_table:\n",
    "        frequency_table[key] = round(100*frequency_table[key]/len(dataset), 2) \n",
    "    \n",
    "    return frequency_table"
   ]
  },
  {
   "cell_type": "markdown",
   "metadata": {},
   "source": [
    "Dataquest provided the function `display_table()` which displays the percentages generated by `freq_table()` in descending order.  "
   ]
  },
  {
   "cell_type": "code",
   "execution_count": 20,
   "metadata": {},
   "outputs": [],
   "source": [
    "def display_table(dataset, index):\n",
    "    table = freq_table(dataset, index)\n",
    "    table_display = []\n",
    "    for key in table:\n",
    "        key_val_as_tuple = (table[key], key)\n",
    "        table_display.append(key_val_as_tuple)\n",
    "\n",
    "    table_sorted = sorted(table_display, reverse = True)\n",
    "    for entry in table_sorted:\n",
    "        print(entry[1], ':', entry[0])"
   ]
  },
  {
   "cell_type": "markdown",
   "metadata": {},
   "source": [
    "Analysis of the `Category` column of `android_free` dataset shows that the most common app category is `FAMILY` (18.91%), followed by `GAME` (9.72%), `TOOLS` (8.46%), `BUSINESS` (4.59%), and `LIFESTYLE` (3.9%). "
   ]
  },
  {
   "cell_type": "code",
   "execution_count": 21,
   "metadata": {},
   "outputs": [
    {
     "name": "stdout",
     "output_type": "stream",
     "text": [
      "FAMILY : 18.91\n",
      "GAME : 9.72\n",
      "TOOLS : 8.46\n",
      "BUSINESS : 4.59\n",
      "LIFESTYLE : 3.9\n",
      "PRODUCTIVITY : 3.89\n",
      "FINANCE : 3.7\n",
      "MEDICAL : 3.53\n",
      "SPORTS : 3.4\n",
      "PERSONALIZATION : 3.32\n",
      "COMMUNICATION : 3.24\n",
      "HEALTH_AND_FITNESS : 3.08\n",
      "PHOTOGRAPHY : 2.94\n",
      "NEWS_AND_MAGAZINES : 2.8\n",
      "SOCIAL : 2.66\n",
      "TRAVEL_AND_LOCAL : 2.34\n",
      "SHOPPING : 2.25\n",
      "BOOKS_AND_REFERENCE : 2.14\n",
      "DATING : 1.86\n",
      "VIDEO_PLAYERS : 1.79\n",
      "MAPS_AND_NAVIGATION : 1.4\n",
      "FOOD_AND_DRINK : 1.24\n",
      "EDUCATION : 1.16\n",
      "ENTERTAINMENT : 0.96\n",
      "LIBRARIES_AND_DEMO : 0.94\n",
      "AUTO_AND_VEHICLES : 0.93\n",
      "HOUSE_AND_HOME : 0.82\n",
      "WEATHER : 0.8\n",
      "EVENTS : 0.71\n",
      "PARENTING : 0.65\n",
      "ART_AND_DESIGN : 0.64\n",
      "COMICS : 0.62\n",
      "BEAUTY : 0.6\n"
     ]
    }
   ],
   "source": [
    "display_table(android_free, 1)"
   ]
  },
  {
   "cell_type": "markdown",
   "metadata": {},
   "source": [
    "Meanwhile, analysis of the `Genres` column of `android_free` shows that the most common app genres are `Tools` (8.45%), `Entertainment` (6.07%), `Education` (5.35%), `Business` (4.59%), and `Productivity` (3.89%). "
   ]
  },
  {
   "cell_type": "code",
   "execution_count": 22,
   "metadata": {},
   "outputs": [
    {
     "name": "stdout",
     "output_type": "stream",
     "text": [
      "Tools : 8.45\n",
      "Entertainment : 6.07\n",
      "Education : 5.35\n",
      "Business : 4.59\n",
      "Productivity : 3.89\n",
      "Lifestyle : 3.89\n",
      "Finance : 3.7\n",
      "Medical : 3.53\n",
      "Sports : 3.46\n",
      "Personalization : 3.32\n",
      "Communication : 3.24\n",
      "Action : 3.1\n",
      "Health & Fitness : 3.08\n",
      "Photography : 2.94\n",
      "News & Magazines : 2.8\n",
      "Social : 2.66\n",
      "Travel & Local : 2.32\n",
      "Shopping : 2.25\n",
      "Books & Reference : 2.14\n",
      "Simulation : 2.04\n",
      "Dating : 1.86\n",
      "Arcade : 1.85\n",
      "Video Players & Editors : 1.77\n",
      "Casual : 1.76\n",
      "Maps & Navigation : 1.4\n",
      "Food & Drink : 1.24\n",
      "Puzzle : 1.13\n",
      "Racing : 0.99\n",
      "Role Playing : 0.94\n",
      "Libraries & Demo : 0.94\n",
      "Auto & Vehicles : 0.93\n",
      "Strategy : 0.91\n",
      "House & Home : 0.82\n",
      "Weather : 0.8\n",
      "Events : 0.71\n",
      "Adventure : 0.68\n",
      "Comics : 0.61\n",
      "Beauty : 0.6\n",
      "Art & Design : 0.6\n",
      "Parenting : 0.5\n",
      "Card : 0.45\n",
      "Casino : 0.43\n",
      "Trivia : 0.42\n",
      "Educational;Education : 0.39\n",
      "Board : 0.38\n",
      "Educational : 0.37\n",
      "Education;Education : 0.34\n",
      "Word : 0.26\n",
      "Casual;Pretend Play : 0.24\n",
      "Music : 0.2\n",
      "Racing;Action & Adventure : 0.17\n",
      "Puzzle;Brain Games : 0.17\n",
      "Entertainment;Music & Video : 0.17\n",
      "Casual;Brain Games : 0.14\n",
      "Casual;Action & Adventure : 0.14\n",
      "Arcade;Action & Adventure : 0.12\n",
      "Action;Action & Adventure : 0.1\n",
      "Educational;Pretend Play : 0.09\n",
      "Simulation;Action & Adventure : 0.08\n",
      "Parenting;Education : 0.08\n",
      "Entertainment;Brain Games : 0.08\n",
      "Board;Brain Games : 0.08\n",
      "Parenting;Music & Video : 0.07\n",
      "Educational;Brain Games : 0.07\n",
      "Casual;Creativity : 0.07\n",
      "Art & Design;Creativity : 0.07\n",
      "Education;Pretend Play : 0.06\n",
      "Role Playing;Pretend Play : 0.05\n",
      "Education;Creativity : 0.05\n",
      "Role Playing;Action & Adventure : 0.03\n",
      "Puzzle;Action & Adventure : 0.03\n",
      "Entertainment;Creativity : 0.03\n",
      "Entertainment;Action & Adventure : 0.03\n",
      "Educational;Creativity : 0.03\n",
      "Educational;Action & Adventure : 0.03\n",
      "Education;Music & Video : 0.03\n",
      "Education;Brain Games : 0.03\n",
      "Education;Action & Adventure : 0.03\n",
      "Adventure;Action & Adventure : 0.03\n",
      "Video Players & Editors;Music & Video : 0.02\n",
      "Sports;Action & Adventure : 0.02\n",
      "Simulation;Pretend Play : 0.02\n",
      "Puzzle;Creativity : 0.02\n",
      "Music;Music & Video : 0.02\n",
      "Entertainment;Pretend Play : 0.02\n",
      "Casual;Education : 0.02\n",
      "Board;Action & Adventure : 0.02\n",
      "Video Players & Editors;Creativity : 0.01\n",
      "Trivia;Education : 0.01\n",
      "Travel & Local;Action & Adventure : 0.01\n",
      "Tools;Education : 0.01\n",
      "Strategy;Education : 0.01\n",
      "Strategy;Creativity : 0.01\n",
      "Strategy;Action & Adventure : 0.01\n",
      "Simulation;Education : 0.01\n",
      "Role Playing;Brain Games : 0.01\n",
      "Racing;Pretend Play : 0.01\n",
      "Puzzle;Education : 0.01\n",
      "Parenting;Brain Games : 0.01\n",
      "Music & Audio;Music & Video : 0.01\n",
      "Lifestyle;Pretend Play : 0.01\n",
      "Lifestyle;Education : 0.01\n",
      "Health & Fitness;Education : 0.01\n",
      "Health & Fitness;Action & Adventure : 0.01\n",
      "Entertainment;Education : 0.01\n",
      "Communication;Creativity : 0.01\n",
      "Comics;Creativity : 0.01\n",
      "Casual;Music & Video : 0.01\n",
      "Card;Action & Adventure : 0.01\n",
      "Books & Reference;Education : 0.01\n",
      "Art & Design;Pretend Play : 0.01\n",
      "Art & Design;Action & Adventure : 0.01\n",
      "Arcade;Pretend Play : 0.01\n",
      "Adventure;Education : 0.01\n"
     ]
    }
   ],
   "source": [
    "display_table(android_free, 9)"
   ]
  },
  {
   "cell_type": "markdown",
   "metadata": {},
   "source": [
    "Results indicate that there is a good balance of English free apps in Google Play for fun and practical applications. \n",
    "\n",
    "As for the `prime_genre` column of the `ios_free` dataset, more than half of the apps belong to `Games` primary genre (58.16%). Apps related to `Entertainment` (7.88%), `Photo & Video` (4.97%), `Education` (3.66%), and `Social Networking` (3.29%) are also common. The results of the analysis show that unlike in Google Play, most of English free apps in the App Store are for fun/games. "
   ]
  },
  {
   "cell_type": "code",
   "execution_count": 23,
   "metadata": {
    "scrolled": true
   },
   "outputs": [
    {
     "name": "stdout",
     "output_type": "stream",
     "text": [
      "Games : 58.16\n",
      "Entertainment : 7.88\n",
      "Photo & Video : 4.97\n",
      "Education : 3.66\n",
      "Social Networking : 3.29\n",
      "Shopping : 2.61\n",
      "Utilities : 2.51\n",
      "Sports : 2.14\n",
      "Music : 2.05\n",
      "Health & Fitness : 2.02\n",
      "Productivity : 1.74\n",
      "Lifestyle : 1.58\n",
      "News : 1.33\n",
      "Travel : 1.24\n",
      "Finance : 1.12\n",
      "Weather : 0.87\n",
      "Food & Drink : 0.81\n",
      "Reference : 0.56\n",
      "Business : 0.53\n",
      "Book : 0.43\n",
      "Navigation : 0.19\n",
      "Medical : 0.19\n",
      "Catalogs : 0.12\n"
     ]
    }
   ],
   "source": [
    "display_table(ios_free, 12)"
   ]
  },
  {
   "cell_type": "markdown",
   "metadata": {},
   "source": [
    "While I was able to determine the most frequent genres/categories of English free apps in Google Play and the App Store, this does not reflect the number of users or the actual demand for the apps. "
   ]
  },
  {
   "cell_type": "markdown",
   "metadata": {},
   "source": [
    "## Most Popular Apps by Category/Genre in Google Play"
   ]
  },
  {
   "cell_type": "markdown",
   "metadata": {},
   "source": [
    "To have a measure on the number of users per category and genre of English free apps in Google Play, I computed the average number of installs per category or genre of apps using the `Installs` column of `android_free` data set. Data analysis shows the following categories have the highest average number of user installs: `COMMUNICATION`, `VIDEO_PLAYERS`, `SOCIAL`, `PHOTOGRAPHY`, `PRODUCTIVITY`, `GAME`, `TRAVEL_AND_LOCAL`, `ENTERTAINMENT`, `TOOLS`, and `NEWS_AND_MAGAZINES`. "
   ]
  },
  {
   "cell_type": "code",
   "execution_count": 24,
   "metadata": {},
   "outputs": [
    {
     "name": "stdout",
     "output_type": "stream",
     "text": [
      "COMMUNICATION : 38,456,119.2\n",
      "VIDEO_PLAYERS : 24,727,872.5\n",
      "SOCIAL : 23,253,652.1\n",
      "PHOTOGRAPHY : 17,840,110.4\n",
      "PRODUCTIVITY : 16,787,331.3\n",
      "GAME : 15,588,015.6\n",
      "TRAVEL_AND_LOCAL : 13,984,077.7\n",
      "ENTERTAINMENT : 11,640,705.9\n",
      "TOOLS : 10,801,391.3\n",
      "NEWS_AND_MAGAZINES : 9,549,178.5\n",
      "BOOKS_AND_REFERENCE : 8,767,811.9\n",
      "SHOPPING : 7,036,877.3\n",
      "PERSONALIZATION : 5,201,482.6\n",
      "WEATHER : 5,074,486.2\n",
      "HEALTH_AND_FITNESS : 4,188,822.0\n",
      "MAPS_AND_NAVIGATION : 4,056,941.8\n",
      "FAMILY : 3,695,641.8\n",
      "SPORTS : 3,638,640.1\n",
      "ART_AND_DESIGN : 1,986,335.1\n",
      "FOOD_AND_DRINK : 1,924,897.7\n",
      "EDUCATION : 1,833,495.1\n",
      "BUSINESS : 1,712,290.1\n",
      "LIFESTYLE : 1,437,816.3\n",
      "FINANCE : 1,387,692.5\n",
      "HOUSE_AND_HOME : 1,331,540.6\n",
      "DATING : 854,028.8\n",
      "COMICS : 817,657.3\n",
      "AUTO_AND_VEHICLES : 647,317.8\n",
      "LIBRARIES_AND_DEMO : 638,503.7\n",
      "PARENTING : 542,603.6\n",
      "BEAUTY : 513,151.9\n",
      "EVENTS : 253,542.2\n",
      "MEDICAL : 120,550.6\n"
     ]
    }
   ],
   "source": [
    "android_category_ft = freq_table(android_free, 1)\n",
    "category_installs = []\n",
    "\n",
    "for category in android_category_ft:\n",
    "    total = 0\n",
    "    len_category = 0\n",
    "    \n",
    "    for row in android_free:\n",
    "        category_app = row[1]\n",
    "        \n",
    "        if category_app == category:\n",
    "            installs = row[5].replace('+','').replace(',','')\n",
    "            installs = float(installs)\n",
    "            total += installs\n",
    "            len_category += 1\n",
    "            \n",
    "    avg_installs = total/len_category\n",
    "    \n",
    "    category_vs_installs = (avg_installs, category)\n",
    "    category_installs.append(category_vs_installs)\n",
    "    \n",
    "category_installs_sorted = sorted(category_installs, reverse=True)\n",
    "for category in category_installs_sorted:\n",
    "    print(category[1], \":\", f\"{category[0]:,.1f}\")"
   ]
  },
  {
   "cell_type": "markdown",
   "metadata": {},
   "source": [
    "As for the genre of English free apps in Google Play, the following have the highes average number of user installs: `Communication`, `Adventure;Action & Adventure`, `Video Players & Editors`, `Social`, `Arcade`, `Casual`, `Puzzle;Action & Adventure`, `Photography`, `Educational;Action & Adventure`, and `Productivity`."
   ]
  },
  {
   "cell_type": "code",
   "execution_count": 25,
   "metadata": {},
   "outputs": [
    {
     "name": "stdout",
     "output_type": "stream",
     "text": [
      "Communication : 38,456,119.2\n",
      "Adventure;Action & Adventure : 35,333,333.3\n",
      "Video Players & Editors : 24,947,335.8\n",
      "Social : 23,253,652.1\n",
      "Arcade : 22,888,365.5\n",
      "Casual : 19,569,221.6\n",
      "Puzzle;Action & Adventure : 18,366,666.7\n",
      "Photography : 17,840,110.4\n",
      "Educational;Action & Adventure : 17,016,666.7\n",
      "Productivity : 16,787,331.3\n",
      "Racing : 15,910,645.7\n",
      "Travel & Local : 14,051,476.1\n",
      "Casual;Action & Adventure : 12,916,666.7\n",
      "Action : 12,603,588.9\n",
      "Strategy : 11,199,902.5\n",
      "Tools : 10,802,461.2\n",
      "Tools;Education : 10,000,000.0\n",
      "Role Playing;Brain Games : 10,000,000.0\n",
      "Lifestyle;Pretend Play : 10,000,000.0\n",
      "Casual;Music & Video : 10,000,000.0\n",
      "Card;Action & Adventure : 10,000,000.0\n",
      "Adventure;Education : 10,000,000.0\n",
      "News & Magazines : 9,549,178.5\n",
      "Music : 9,445,583.3\n",
      "Educational;Pretend Play : 9,375,000.0\n",
      "Puzzle;Brain Games : 9,280,666.7\n",
      "Word : 9,094,458.7\n",
      "Racing;Action & Adventure : 8,816,666.7\n",
      "Books & Reference : 8,767,811.9\n",
      "Puzzle : 8,302,861.9\n",
      "Video Players & Editors;Music & Video : 7,500,000.0\n",
      "Shopping : 7,036,877.3\n",
      "Role Playing;Action & Adventure : 7,000,000.0\n",
      "Casual;Pretend Play : 6,957,142.9\n",
      "Entertainment;Music & Video : 6,413,333.3\n",
      "Action;Action & Adventure : 5,888,888.9\n",
      "Entertainment : 5,602,792.8\n",
      "Education;Brain Games : 5,333,333.3\n",
      "Casual;Creativity : 5,333,333.3\n",
      "Role Playing;Pretend Play : 5,275,000.0\n",
      "Personalization : 5,201,482.6\n",
      "Weather : 5,074,486.2\n",
      "Sports;Action & Adventure : 5,050,000.0\n",
      "Music;Music & Video : 5,050,000.0\n",
      "Video Players & Editors;Creativity : 5,000,000.0\n",
      "Adventure : 4,922,785.3\n",
      "Simulation;Action & Adventure : 4,857,142.9\n",
      "Education;Education : 4,759,517.0\n",
      "Board : 4,759,209.1\n",
      "Sports : 4,596,842.6\n",
      "Educational;Brain Games : 4,433,333.3\n",
      "Health & Fitness : 4,188,822.0\n",
      "Maps & Navigation : 4,056,941.8\n",
      "Entertainment;Creativity : 4,000,000.0\n",
      "Role Playing : 3,965,645.4\n",
      "Card : 3,815,462.5\n",
      "Trivia : 3,475,712.7\n",
      "Simulation : 3,475,484.1\n",
      "Casino : 3,427,910.5\n",
      "Entertainment;Brain Games : 3,314,285.7\n",
      "Arcade;Action & Adventure : 3,190,909.2\n",
      "Entertainment;Pretend Play : 3,000,000.0\n",
      "Board;Action & Adventure : 3,000,000.0\n",
      "Education;Creativity : 2,875,000.0\n",
      "Entertainment;Action & Adventure : 2,333,333.3\n",
      "Educational;Creativity : 2,333,333.3\n",
      "Art & Design : 2,122,850.9\n",
      "Education;Music & Video : 2,033,333.3\n",
      "Food & Drink : 1,924,897.7\n",
      "Education;Pretend Play : 1,800,000.0\n",
      "Educational;Education : 1,737,143.1\n",
      "Business : 1,712,290.1\n",
      "Casual;Brain Games : 1,425,916.7\n",
      "Lifestyle : 1,412,998.3\n",
      "Finance : 1,387,692.5\n",
      "House & Home : 1,331,540.6\n",
      "Parenting;Music & Video : 1,118,333.3\n",
      "Strategy;Creativity : 1,000,000.0\n",
      "Strategy;Action & Adventure : 1,000,000.0\n",
      "Racing;Pretend Play : 1,000,000.0\n",
      "Parenting;Brain Games : 1,000,000.0\n",
      "Health & Fitness;Action & Adventure : 1,000,000.0\n",
      "Entertainment;Education : 1,000,000.0\n",
      "Education;Action & Adventure : 1,000,000.0\n",
      "Casual;Education : 1,000,000.0\n",
      "Arcade;Pretend Play : 1,000,000.0\n",
      "Dating : 854,028.8\n",
      "Comics : 831,873.1\n",
      "Puzzle;Creativity : 750,000.0\n",
      "Auto & Vehicles : 647,317.8\n",
      "Libraries & Demo : 638,503.7\n",
      "Education : 550,185.4\n",
      "Simulation;Pretend Play : 550,000.0\n",
      "Beauty : 513,151.9\n",
      "Strategy;Education : 500,000.0\n",
      "Music & Audio;Music & Video : 500,000.0\n",
      "Communication;Creativity : 500,000.0\n",
      "Art & Design;Pretend Play : 500,000.0\n",
      "Parenting : 467,977.5\n",
      "Parenting;Education : 452,857.1\n",
      "Educational : 411,184.8\n",
      "Board;Brain Games : 407,142.9\n",
      "Art & Design;Creativity : 285,000.0\n",
      "Events : 253,542.2\n",
      "Medical : 120,550.6\n",
      "Travel & Local;Action & Adventure : 100,000.0\n",
      "Puzzle;Education : 100,000.0\n",
      "Lifestyle;Education : 100,000.0\n",
      "Health & Fitness;Education : 100,000.0\n",
      "Art & Design;Action & Adventure : 100,000.0\n",
      "Comics;Creativity : 50,000.0\n",
      "Books & Reference;Education : 1,000.0\n",
      "Simulation;Education : 500.0\n",
      "Trivia;Education : 100.0\n"
     ]
    }
   ],
   "source": [
    "android_genre_ft = freq_table(android_free, 9)\n",
    "genre_installs = []\n",
    "\n",
    "for genre in android_genre_ft:\n",
    "    total = 0\n",
    "    len_genre = 0\n",
    "    \n",
    "    for row in android_free:\n",
    "        genre_app = row[9]\n",
    "        \n",
    "        if genre_app == genre:\n",
    "            installs = row[5].replace('+','').replace(',','')\n",
    "            installs = float(installs)\n",
    "            total += installs\n",
    "            len_genre += 1\n",
    "            \n",
    "    avg_installs = total/len_genre\n",
    "    \n",
    "    genre_vs_installs = (avg_installs, genre)\n",
    "    genre_installs.append(genre_vs_installs)\n",
    "    \n",
    "genre_installs_sorted = sorted(genre_installs, reverse=True)\n",
    "for genre in genre_installs_sorted:\n",
    "    print(genre[1], \":\", f\"{genre[0]:,.1f}\")"
   ]
  },
  {
   "cell_type": "markdown",
   "metadata": {},
   "source": [
    "Using the code below, I inspected some of the genres to have an idea of its corresponding app category. I found that `Adventure;Action & Adventure`, `Puzzle;Action & Adventure`, and `Educational;Action & Adventure` genres are all under the `FAMILY` category. The genre `Casual` has apps only under `FAMILY` and `GAME` categories. "
   ]
  },
  {
   "cell_type": "code",
   "execution_count": 26,
   "metadata": {},
   "outputs": [
    {
     "name": "stdout",
     "output_type": "stream",
     "text": [
      "Leo and Tig : FAMILY\n",
      "Transformers Rescue Bots: Hero Adventures : FAMILY\n",
      "ROBLOX : FAMILY\n"
     ]
    }
   ],
   "source": [
    "for app in android_free:\n",
    "    if app[9] == 'Adventure;Action & Adventure':     # Set the app genre here\n",
    "        print(app[0], \":\", app[1])"
   ]
  },
  {
   "cell_type": "markdown",
   "metadata": {},
   "source": [
    "Looking at the average number of installs for both app categories and genres, English free apps designed for communication, photo and video, social networking, productivity, and games have the most number of users in Google Play."
   ]
  },
  {
   "cell_type": "markdown",
   "metadata": {},
   "source": [
    "## Most Popular Apps by Genre on the App Store"
   ]
  },
  {
   "cell_type": "markdown",
   "metadata": {},
   "source": [
    "To have an idea on the number of users per genre of English free apps in the App Store, I computed the average total number of user ratings per genre using the `rating_count_tot` column of `ios_free` data set. Results show `Navigation`, `Reference`, `Socia Networking`, `Music`, `Weather`, `Book`, `Food & Drink`, `Finance`, `Photo & Video`, and `Travel` genres have the highest average total number of user ratings. "
   ]
  },
  {
   "cell_type": "code",
   "execution_count": 27,
   "metadata": {
    "scrolled": true
   },
   "outputs": [
    {
     "name": "stdout",
     "output_type": "stream",
     "text": [
      "Navigation : 86,090.3\n",
      "Reference : 74,942.1\n",
      "Social Networking : 71,548.3\n",
      "Music : 57,326.5\n",
      "Weather : 52,279.9\n",
      "Book : 39,758.5\n",
      "Food & Drink : 33,333.9\n",
      "Finance : 31,467.9\n",
      "Photo & Video : 28,441.5\n",
      "Travel : 28,243.8\n",
      "Shopping : 26,919.7\n",
      "Health & Fitness : 23,298.0\n",
      "Sports : 23,008.9\n",
      "Games : 22,788.7\n",
      "News : 21,248.0\n",
      "Productivity : 21,028.4\n",
      "Utilities : 18,684.5\n",
      "Lifestyle : 16,485.8\n",
      "Entertainment : 14,029.8\n",
      "Business : 7,491.1\n",
      "Education : 7,004.0\n",
      "Catalogs : 4,004.0\n",
      "Medical : 612.0\n"
     ]
    }
   ],
   "source": [
    "ios_genre_ft = freq_table(ios_free, 12)\n",
    "genre_rating = []\n",
    "\n",
    "for genre in ios_genre_ft:\n",
    "    total = 0\n",
    "    len_genre = 0\n",
    "    \n",
    "    for row in ios_free:\n",
    "        genre_app = row[12]\n",
    "        \n",
    "        if genre_app == genre:\n",
    "            ratings = float(row[6])\n",
    "            total += ratings\n",
    "            len_genre += 1\n",
    "    \n",
    "    avg_ratings = total/len_genre\n",
    "    \n",
    "    genre_vs_rating = (avg_ratings, genre)\n",
    "    genre_rating.append(genre_vs_rating)\n",
    "    \n",
    "genre_rating_sorted = sorted(genre_rating, reverse=True)\n",
    "for genre in genre_rating_sorted:\n",
    "    print(genre[1], \":\", f\"{genre[0]:,.1f}\")"
   ]
  },
  {
   "cell_type": "markdown",
   "metadata": {},
   "source": [
    "Since the company was looking for app profiles that have a high number of users in both Google Play and App Store, I now compared the results of my data analysis for `android_free` and `ios_free` as shown.\n",
    "\n",
    "\n",
    "| Rank | Most installed app categories (Google Play) | Most installed app genres (Google Play) | Most rated  app genres (App Store) |\n",
    "|:----:|:-------------------------------------------:|:---------------------------------------:|:----------------------------------:|\n",
    "|   1  |                COMMUNICATION                |              Communication              |             Navigation             |\n",
    "|   2  |                VIDEO_PLAYERS                |       Adventure;Action & Adventure      |              Reference             |\n",
    "|   3  |                    SOCIAL                   |         Video Players & Editors         |          Social Networking         |\n",
    "|   4  |                 PHOTOGRAPHY                 |                  Social                 |                Music               |\n",
    "|   5  |                 PRODUCTIVITY                |                  Arcade                 |               Weather              |\n",
    "|   6  |                     GAME                    |                  Casual                 |                Book                |\n",
    "|   7  |               TRAVEL_AND_LOCAL              |        Puzzle;Action & Adventure        |            Food & Drink            |\n",
    "|   8  |                ENTERTAINMENT                |               Photography               |               Finance              |\n",
    "|   9  |                    TOOLS                    |      Educational;Action & Adventure     |            Photo & Video           |\n",
    "|  10  |              NEWS_AND_MAGAZINES             |               Productivity              |               Travel               |"
   ]
  },
  {
   "cell_type": "markdown",
   "metadata": {},
   "source": [
    "The results of the comparison show English free apps with applications to social networking, photography, and video have the most number of users in Google Play and the App Store. "
   ]
  },
  {
   "cell_type": "markdown",
   "metadata": {},
   "source": [
    "## Conclusions"
   ]
  },
  {
   "cell_type": "markdown",
   "metadata": {},
   "source": [
    "From the results, I concluded that developing English free apps for social networking, photography, or video could be profitable for both Google Play and App Store markets.   "
   ]
  }
 ],
 "metadata": {
  "kernelspec": {
   "display_name": "Python 3",
   "language": "python",
   "name": "python3"
  },
  "language_info": {
   "codemirror_mode": {
    "name": "ipython",
    "version": 3
   },
   "file_extension": ".py",
   "mimetype": "text/x-python",
   "name": "python",
   "nbconvert_exporter": "python",
   "pygments_lexer": "ipython3",
   "version": "3.7.3"
  }
 },
 "nbformat": 4,
 "nbformat_minor": 2
}
